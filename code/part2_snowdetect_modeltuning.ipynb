{
 "cells": [
  {
   "cell_type": "markdown",
   "id": "244e09c3-0b9a-492f-b299-f2ec56aef530",
   "metadata": {},
   "source": [
    "# Notbook 2: Improvements on the Initial Fit #"
   ]
  },
  {
   "cell_type": "markdown",
   "id": "51960710-bd3f-46f1-8f89-4d371f055c73",
   "metadata": {},
   "source": [
    "### *Notebook summary..."
   ]
  },
  {
   "cell_type": "code",
   "execution_count": 1,
   "id": "b72b93b2-c5ef-4ae5-bf41-02aafbe069aa",
   "metadata": {},
   "outputs": [],
   "source": [
    "# Common data science imports used in this notebook\n",
    "import numpy as np\n",
    "import pandas as pd\n",
    "import matplotlib.pyplot as plt\n",
    "\n",
    "# Basic Python libraries used in this notebook\n",
    "import time\n",
    "import datetime\n",
    "import os\n",
    "import json\n",
    "\n",
    "# A custom script I wrote to easily calculate and display classification metrics\n",
    "import metrictools_snow as mts\n",
    "\n",
    "# Tensorflow libraries for importing and preprocessing images\n",
    "from tensorflow import io\n",
    "from tensorflow import strings\n",
    "from tensorflow import argmax\n",
    "from tensorflow.data import AUTOTUNE\n",
    "from tensorflow.data import Dataset\n",
    "from tensorflow.image import resize_with_pad\n",
    "\n",
    "# Building neural nets and loading saved models\n",
    "from tensorflow.keras import layers\n",
    "from tensorflow.keras.models import Sequential, load_model\n",
    "from tensorflow.train import Checkpoint"
   ]
  },
  {
   "cell_type": "markdown",
   "id": "50a2b26b-a293-49e2-93e5-8f850a67c3b1",
   "metadata": {},
   "source": [
    "The three cells below are copied exactly from the beginning of Notebook 1.  The image import process is the same as the process used there."
   ]
  },
  {
   "cell_type": "code",
   "execution_count": 2,
   "id": "b771e58f-d228-413e-89e5-56d3174d2672",
   "metadata": {},
   "outputs": [],
   "source": [
    "def get_image(file_path):\n",
    "    \n",
    "    # Given a Tensorflow filepath object, sets label to 0 if the second to last part of the path is 'clear' and 1 if it is 'snow'.\n",
    "    parts = strings.split(file_path, os.path.sep)\n",
    "    label = parts[-2] == ['clear', 'snow']\n",
    "    \n",
    "    # Reads in the image at the given filepath, which should be a jpeg.\n",
    "    img = io.read_file(file_path)\n",
    "    img = io.decode_jpeg(img)\n",
    "    \n",
    "    # Add buffer as necessary to resize image to 640x640 without changing aspect ratio.\n",
    "    # 640 is the largest dimesion of any image in the dataset.\n",
    "    img = resize_with_pad(img, 640, 640)\n",
    "    \n",
    "    # Normalize images so each pixel is in the range -1 to 1\n",
    "    return (img - 127.5) / 127.5, argmax(label)"
   ]
  },
  {
   "cell_type": "code",
   "execution_count": 3,
   "id": "6bc8ad7c-5aab-473c-bc90-a560e1190945",
   "metadata": {},
   "outputs": [],
   "source": [
    "def get_data(img_folder_list, shuffle_seed, train_size=0.8):\n",
    "    \n",
    "    # Gets paths to all the files in the given folders holding the training data.  No shuffling is done yet.\n",
    "    file_groups = [Dataset.list_files(folder+'*', shuffle=False) for folder in img_folder_list]\n",
    "    \n",
    "    # Will not run unless at least 2 data folders are passed, as folder names are used to determine image labels.\n",
    "    if len(file_groups) > 1:\n",
    "    \n",
    "        # Join the filepaths from each folder into one variable.\n",
    "        for i in range(1, len(file_groups)):\n",
    "            image_paths = file_groups[0].concatenate(file_groups[i])\n",
    "\n",
    "        # Filepaths are now shuffled.  This will be redone for each training epoch.\n",
    "        # It's important to do the shuffling now, before images are read into memory.\n",
    "        image_paths = image_paths.shuffle(buffer_size=len(image_paths), reshuffle_each_iteration=True, seed=shuffle_seed)\n",
    "    \n",
    "        # Train/Test/Split based on train_size, which gives the proportion of images that should be used for training.\n",
    "        train_paths = image_paths.take(int(len(image_paths)*train_size))\n",
    "        val_paths = image_paths.skip(int(len(image_paths)*train_size))\n",
    "    \n",
    "        # Use the get_image function import the images, which are resized and normalized as they are imported.\n",
    "        train_images = train_paths.map(get_image, num_parallel_calls=AUTOTUNE)\n",
    "        val_images = val_paths.map(get_image, num_parallel_calls=AUTOTUNE)\n",
    "        return train_images, val_images\n",
    "    \n",
    "    # If fewer than 2 folders were given, print the message below and return no data.\n",
    "    else:\n",
    "        print('Only one class found.  No data returned.')\n",
    "        return None"
   ]
  },
  {
   "cell_type": "code",
   "execution_count": 4,
   "id": "b998fc1c-7d3b-42de-8789-525126668312",
   "metadata": {},
   "outputs": [],
   "source": [
    "# Execute the above functions to create Tensorflow Dataset objects for training.\n",
    "folders = ['../data/train/clear/', '../data/train/snow/']\n",
    "train_data, val_data = get_data(folders, shuffle_seed=632, train_size=0.8)"
   ]
  },
  {
   "cell_type": "markdown",
   "id": "d2f1ca21-f867-49ab-b1a8-2a6ce36eabbf",
   "metadata": {},
   "source": [
    "### Section VI: Importing and Preprocessing Images as Tensorflow Datasets ###"
   ]
  },
  {
   "cell_type": "markdown",
   "id": "f7955d00-d7aa-4b32-9b4d-9641f2ebd2d9",
   "metadata": {},
   "source": [
    "Although the neural net trained in Notebook 1 performed very well, I noticed while designing the streamlit app that it seemed to struggle to recognize more realistic pictures of falling snow, especially when the snow was wet or the flakes were small.  I'm training a new neural net with slightly smaller kernels and larger MaxPooling to try to highlight those smaller snowflakes.\n",
    "\n",
    "A more proper gridsearch process would certainly be helpful, but would also be quite time-consuming, even with CUDA.  The original model already performed very well on the synthetic snow images in this dataset.  The problem of identifying wet or light snowfall may need to be addressed by training on a dataset containing more realistic snow pictures.  These considerations will be addressed as possibilities for future work in the Conclusions."
   ]
  },
  {
   "cell_type": "code",
   "execution_count": 5,
   "id": "c9ca86f3-7dd8-45b6-8f6d-d9671a62c351",
   "metadata": {},
   "outputs": [],
   "source": [
    "# Save an unbatched version of the data, which will make it easier to generate predictions and calculate metrics with them.\n",
    "train_data_unbatched = train_data\n",
    "val_data_unbatched = val_data\n",
    "\n",
    "# Create batches for training and tell Tensorflow to fetch the next batch while each batch is being fit.\n",
    "batch_size = 32\n",
    "train_data = train_data.batch(batch_size).prefetch(buffer_size=AUTOTUNE)\n",
    "val_data = val_data.batch(batch_size).prefetch(buffer_size=AUTOTUNE)"
   ]
  },
  {
   "cell_type": "code",
   "execution_count": 6,
   "id": "5c5e682c-eba3-4e87-8603-22a8664a75d0",
   "metadata": {},
   "outputs": [],
   "source": [
    "model = Sequential()\n",
    "\n",
    "model.add(layers.Conv2D(filters=16, kernel_size=(4, 4),\n",
    "                        strides=(2, 2),\n",
    "                        activation='leaky_relu',\n",
    "                        padding='same',\n",
    "                        input_shape=[640, 640, 3]))\n",
    "\n",
    "model.add(layers.MaxPooling2D(pool_size=(4, 4)))\n",
    "\n",
    "model.add(layers.Conv2D(filters=8, kernel_size=(4, 4),\n",
    "                       strides=(2, 2),\n",
    "                       activation='leaky_relu',\n",
    "                       padding='same'))\n",
    "\n",
    "model.add(layers.MaxPooling2D(pool_size=(4, 4)))\n",
    "\n",
    "model.add(layers.Flatten())\n",
    "\n",
    "model.add(layers.Dense(64, activation='leaky_relu'))\n",
    "\n",
    "model.add(layers.Dense(8, activation='leaky_relu'))\n",
    "\n",
    "model.add(layers.Dense(1, activation='sigmoid'))"
   ]
  },
  {
   "cell_type": "code",
   "execution_count": 7,
   "id": "50c5ea3f-7a19-4a91-8402-da441f37a91b",
   "metadata": {},
   "outputs": [],
   "source": [
    "model.compile(loss='binary_crossentropy',\n",
    "             optimizer='adam',\n",
    "             metrics=['accuracy'])"
   ]
  },
  {
   "cell_type": "code",
   "execution_count": 8,
   "id": "187d461f-cdaa-4db3-93ae-3aa7b31f5d0e",
   "metadata": {},
   "outputs": [
    {
     "name": "stdout",
     "output_type": "stream",
     "text": [
      "Epoch 1/10\n",
      "2500/2500 [==============================] - 282s 112ms/step - loss: 0.1462 - accuracy: 0.9402 - val_loss: 0.0660 - val_accuracy: 0.9780\n",
      "Epoch 2/10\n",
      "2500/2500 [==============================] - 295s 118ms/step - loss: 0.0693 - accuracy: 0.9751 - val_loss: 0.0865 - val_accuracy: 0.9672\n",
      "Epoch 3/10\n",
      "2500/2500 [==============================] - 294s 118ms/step - loss: 0.0533 - accuracy: 0.9813 - val_loss: 0.0492 - val_accuracy: 0.9830\n",
      "Epoch 4/10\n",
      "2500/2500 [==============================] - 294s 117ms/step - loss: 0.0460 - accuracy: 0.9842 - val_loss: 0.0395 - val_accuracy: 0.9856\n",
      "Epoch 5/10\n",
      "2500/2500 [==============================] - 293s 117ms/step - loss: 0.0382 - accuracy: 0.9867 - val_loss: 0.0382 - val_accuracy: 0.9857\n",
      "Epoch 6/10\n",
      "2500/2500 [==============================] - 292s 117ms/step - loss: 0.0355 - accuracy: 0.9872 - val_loss: 0.0256 - val_accuracy: 0.9904\n",
      "Epoch 7/10\n",
      "2500/2500 [==============================] - 292s 117ms/step - loss: 0.0331 - accuracy: 0.9880 - val_loss: 0.0297 - val_accuracy: 0.9883\n",
      "Epoch 8/10\n",
      "2500/2500 [==============================] - 291s 116ms/step - loss: 0.0306 - accuracy: 0.9890 - val_loss: 0.0191 - val_accuracy: 0.9934\n",
      "Epoch 9/10\n",
      "2500/2500 [==============================] - 290s 116ms/step - loss: 0.0276 - accuracy: 0.9901 - val_loss: 0.0263 - val_accuracy: 0.9902\n",
      "Epoch 10/10\n",
      "2500/2500 [==============================] - 292s 117ms/step - loss: 0.0258 - accuracy: 0.9907 - val_loss: 0.0153 - val_accuracy: 0.9954\n"
     ]
    }
   ],
   "source": [
    "history = model.fit(train_data, validation_data=val_data, epochs=10, verbose=1)"
   ]
  },
  {
   "cell_type": "code",
   "execution_count": 9,
   "id": "46cef9ee-dc8a-4967-865b-e74c5ab92954",
   "metadata": {},
   "outputs": [
    {
     "data": {
      "image/png": "[encoded data removed]",
      "text/plain": [
       "<Figure size 1080x360 with 1 Axes>"
      ]
     },
     "metadata": {
      "needs_background": "light"
     },
     "output_type": "display_data"
    }
   ],
   "source": [
    "# Plot of the training and validation loss for each epoch.\n",
    "plt.figure(figsize=(15,5))\n",
    "plt.plot(history.history['loss'], label='Training Loss')\n",
    "plt.plot(history.history['val_loss'], label='Validation Loss')\n",
    "plt.legend();"
   ]
  },
  {
   "cell_type": "code",
   "execution_count": 10,
   "id": "3224df37-56a5-43f6-9421-39ff5a7c7374",
   "metadata": {},
   "outputs": [
    {
     "data": {
      "image/png": "[encoded data removed]",
      "text/plain": [
       "<Figure size 1080x360 with 1 Axes>"
      ]
     },
     "metadata": {
      "needs_background": "light"
     },
     "output_type": "display_data"
    }
   ],
   "source": [
    "# Plot of the training and validation accuracy for each epoch.\n",
    "plt.figure(figsize=(15,5))\n",
    "plt.plot(history.history['accuracy'], label='Training Accuracy')\n",
    "plt.plot(history.history['val_accuracy'], label='Validation Accuracy')\n",
    "plt.legend();"
   ]
  },
  {
   "cell_type": "code",
   "execution_count": 11,
   "id": "dbe20cf6-f0d6-41ab-ba11-bfe144ee8782",
   "metadata": {},
   "outputs": [],
   "source": [
    "model_name = 'model2'"
   ]
  },
  {
   "cell_type": "code",
   "execution_count": 12,
   "id": "67d9a93d-78b1-4dc4-9687-23c7ccc22a9e",
   "metadata": {},
   "outputs": [
    {
     "name": "stdout",
     "output_type": "stream",
     "text": [
      "INFO:tensorflow:Assets written to: ../saved_models/model2\\assets\n"
     ]
    }
   ],
   "source": [
    "model.save(f'../saved_models/{model_name}')"
   ]
  },
  {
   "cell_type": "code",
   "execution_count": 13,
   "id": "2e887419-2df5-4f6d-b500-80ae5f99f982",
   "metadata": {},
   "outputs": [],
   "source": [
    "history_dict = history.history\n",
    "json.dump(history_dict, open(f'../saved_models/{model_name}_hist', 'w'))"
   ]
  },
  {
   "cell_type": "markdown",
   "id": "4a5ea540-716f-4fc9-80a6-cfd1fb41eb78",
   "metadata": {},
   "source": [
    "The process of saving the model is identical to that used in Notebook 1, except that I now save the raw predictions to csv, rather than rounding and converting to int first.  This allows for later adjustment of the threshold for identifying an image as having snow.\n",
    "\n",
    "I also improved get_preds to take the model as an argument, rather than hard-coding it into the function."
   ]
  },
  {
   "cell_type": "code",
   "execution_count": 22,
   "id": "1a715a3e-e381-4d29-87fd-10039f6b3c30",
   "metadata": {},
   "outputs": [],
   "source": [
    "def get_preds(dataset, model, model_name, which_data):\n",
    "\n",
    "    # Generating predictions on the data takes a while, so updates will be printed.\n",
    "    # t_start saves the time that prediction generation began so the updates can include time elapsed.\n",
    "    t_start = time.time()\n",
    "    # Count and total are also used to inform the user of progress.\n",
    "    count = 0\n",
    "    total = len(dataset)\n",
    "    \n",
    "    preds = np.array([])\n",
    "    true = np.array([])\n",
    "    # Iterate through each image in the given dataset and corresponding label.\n",
    "    for image, label in dataset:\n",
    "        # Save the predicted and true label for each image in a numpy array.        \n",
    "        preds = np.concatenate([preds, np.array([float(model.predict(image[np.newaxis, :]))])])\n",
    "        true = np.concatenate([true, np.array([label.numpy()])])\n",
    "        count += 1\n",
    "        # Update the user after every 1000 predictions.\n",
    "        if count % 1000 == 0:\n",
    "            print(f'Calculated {count} of {total} predictions ({round(count * 100 / total, 2)}%) for {which_data} data. '\n",
    "                  f'{datetime.timedelta(seconds=time.time()-t_start)} elapsed.')\n",
    "    \n",
    "    # Save the predictions and labels to a dataframe and then output them to a csv.\n",
    "    df = pd.DataFrame(zip(true, preds), columns=['true', 'pred'])\n",
    "    df.to_csv(f'../saved_models/{model_name}_{which_data}.csv', index=False)   \n",
    "    \n",
    "    # Return the predictions and labels in numpy arrays.\n",
    "    return preds, true"
   ]
  },
  {
   "cell_type": "code",
   "execution_count": 23,
   "id": "58aceb79-25cc-4133-9425-ce21699777b0",
   "metadata": {},
   "outputs": [
    {
     "name": "stdout",
     "output_type": "stream",
     "text": [
      "Calculated 1000 of 20000 predictions (5.0%) for val data. 0:00:50.717702 elapsed.\n",
      "Calculated 2000 of 20000 predictions (10.0%) for val data. 0:01:38.899550 elapsed.\n",
      "Calculated 3000 of 20000 predictions (15.0%) for val data. 0:02:28.999362 elapsed.\n",
      "Calculated 4000 of 20000 predictions (20.0%) for val data. 0:03:18.693809 elapsed.\n",
      "Calculated 5000 of 20000 predictions (25.0%) for val data. 0:04:08.705441 elapsed.\n",
      "Calculated 6000 of 20000 predictions (30.0%) for val data. 0:04:58.377130 elapsed.\n",
      "Calculated 7000 of 20000 predictions (35.0%) for val data. 0:05:48.112289 elapsed.\n",
      "Calculated 8000 of 20000 predictions (40.0%) for val data. 0:06:37.923380 elapsed.\n",
      "Calculated 9000 of 20000 predictions (45.0%) for val data. 0:07:27.755879 elapsed.\n",
      "Calculated 10000 of 20000 predictions (50.0%) for val data. 0:08:17.473757 elapsed.\n",
      "Calculated 11000 of 20000 predictions (55.0%) for val data. 0:09:07.171202 elapsed.\n",
      "Calculated 12000 of 20000 predictions (60.0%) for val data. 0:09:56.959682 elapsed.\n",
      "Calculated 13000 of 20000 predictions (65.0%) for val data. 0:10:46.826279 elapsed.\n",
      "Calculated 14000 of 20000 predictions (70.0%) for val data. 0:11:36.702653 elapsed.\n",
      "Calculated 15000 of 20000 predictions (75.0%) for val data. 0:12:26.556341 elapsed.\n",
      "Calculated 16000 of 20000 predictions (80.0%) for val data. 0:13:16.103351 elapsed.\n",
      "Calculated 17000 of 20000 predictions (85.0%) for val data. 0:14:05.831954 elapsed.\n",
      "Calculated 18000 of 20000 predictions (90.0%) for val data. 0:14:55.724112 elapsed.\n",
      "Calculated 19000 of 20000 predictions (95.0%) for val data. 0:15:45.489068 elapsed.\n",
      "Calculated 20000 of 20000 predictions (100.0%) for val data. 0:16:35.298105 elapsed.\n"
     ]
    }
   ],
   "source": [
    "# Obtain predictions and labels for validation data.\n",
    "val_preds, val_true = get_preds(val_data_unbatched, model, model_name, 'val')"
   ]
  },
  {
   "cell_type": "code",
   "execution_count": 24,
   "id": "e4dfad60-1d9e-4176-9676-43bc75f369e2",
   "metadata": {},
   "outputs": [
    {
     "name": "stdout",
     "output_type": "stream",
     "text": [
      "Calculated 1000 of 80000 predictions (1.25%) for train data. 0:00:48.823153 elapsed.\n",
      "Calculated 2000 of 80000 predictions (2.5%) for train data. 0:01:35.115929 elapsed.\n",
      "Calculated 3000 of 80000 predictions (3.75%) for train data. 0:02:24.142862 elapsed.\n",
      "Calculated 4000 of 80000 predictions (5.0%) for train data. 0:03:13.997873 elapsed.\n",
      "Calculated 5000 of 80000 predictions (6.25%) for train data. 0:04:03.819072 elapsed.\n",
      "Calculated 6000 of 80000 predictions (7.5%) for train data. 0:04:54.049635 elapsed.\n",
      "Calculated 7000 of 80000 predictions (8.75%) for train data. 0:05:44.120748 elapsed.\n",
      "Calculated 8000 of 80000 predictions (10.0%) for train data. 0:06:34.047272 elapsed.\n",
      "Calculated 9000 of 80000 predictions (11.25%) for train data. 0:07:24.241274 elapsed.\n",
      "Calculated 10000 of 80000 predictions (12.5%) for train data. 0:08:14.286770 elapsed.\n",
      "Calculated 11000 of 80000 predictions (13.75%) for train data. 0:09:04.366247 elapsed.\n",
      "Calculated 12000 of 80000 predictions (15.0%) for train data. 0:09:54.391224 elapsed.\n",
      "Calculated 13000 of 80000 predictions (16.25%) for train data. 0:10:44.301379 elapsed.\n",
      "Calculated 14000 of 80000 predictions (17.5%) for train data. 0:11:34.408631 elapsed.\n",
      "Calculated 15000 of 80000 predictions (18.75%) for train data. 0:12:24.237452 elapsed.\n",
      "Calculated 16000 of 80000 predictions (20.0%) for train data. 0:13:14.166989 elapsed.\n",
      "Calculated 17000 of 80000 predictions (21.25%) for train data. 0:14:04.148490 elapsed.\n",
      "Calculated 18000 of 80000 predictions (22.5%) for train data. 0:14:54.090255 elapsed.\n",
      "Calculated 19000 of 80000 predictions (23.75%) for train data. 0:15:43.919608 elapsed.\n",
      "Calculated 20000 of 80000 predictions (25.0%) for train data. 0:16:33.891347 elapsed.\n",
      "Calculated 21000 of 80000 predictions (26.25%) for train data. 0:17:23.834532 elapsed.\n",
      "Calculated 22000 of 80000 predictions (27.5%) for train data. 0:18:13.705718 elapsed.\n",
      "Calculated 23000 of 80000 predictions (28.75%) for train data. 0:19:03.622473 elapsed.\n",
      "Calculated 24000 of 80000 predictions (30.0%) for train data. 0:19:53.384830 elapsed.\n",
      "Calculated 25000 of 80000 predictions (31.25%) for train data. 0:20:43.274759 elapsed.\n",
      "Calculated 26000 of 80000 predictions (32.5%) for train data. 0:21:33.137084 elapsed.\n",
      "Calculated 27000 of 80000 predictions (33.75%) for train data. 0:22:23.065139 elapsed.\n",
      "Calculated 28000 of 80000 predictions (35.0%) for train data. 0:23:12.963382 elapsed.\n",
      "Calculated 29000 of 80000 predictions (36.25%) for train data. 0:24:02.732807 elapsed.\n",
      "Calculated 30000 of 80000 predictions (37.5%) for train data. 0:24:52.494357 elapsed.\n",
      "Calculated 31000 of 80000 predictions (38.75%) for train data. 0:25:42.268691 elapsed.\n",
      "Calculated 32000 of 80000 predictions (40.0%) for train data. 0:26:32.241594 elapsed.\n",
      "Calculated 33000 of 80000 predictions (41.25%) for train data. 0:27:22.037340 elapsed.\n",
      "Calculated 34000 of 80000 predictions (42.5%) for train data. 0:28:11.970687 elapsed.\n",
      "Calculated 35000 of 80000 predictions (43.75%) for train data. 0:29:01.957687 elapsed.\n",
      "Calculated 36000 of 80000 predictions (45.0%) for train data. 0:29:51.872425 elapsed.\n",
      "Calculated 37000 of 80000 predictions (46.25%) for train data. 0:30:41.800173 elapsed.\n",
      "Calculated 38000 of 80000 predictions (47.5%) for train data. 0:31:31.627239 elapsed.\n",
      "Calculated 39000 of 80000 predictions (48.75%) for train data. 0:32:21.582067 elapsed.\n",
      "Calculated 40000 of 80000 predictions (50.0%) for train data. 0:33:11.578393 elapsed.\n",
      "Calculated 41000 of 80000 predictions (51.25%) for train data. 0:34:01.503970 elapsed.\n",
      "Calculated 42000 of 80000 predictions (52.5%) for train data. 0:34:51.518258 elapsed.\n",
      "Calculated 43000 of 80000 predictions (53.75%) for train data. 0:35:41.262759 elapsed.\n",
      "Calculated 44000 of 80000 predictions (55.0%) for train data. 0:36:31.123391 elapsed.\n",
      "Calculated 45000 of 80000 predictions (56.25%) for train data. 0:37:20.989840 elapsed.\n",
      "Calculated 46000 of 80000 predictions (57.5%) for train data. 0:38:10.871367 elapsed.\n",
      "Calculated 47000 of 80000 predictions (58.75%) for train data. 0:39:01.196243 elapsed.\n",
      "Calculated 48000 of 80000 predictions (60.0%) for train data. 0:39:51.061255 elapsed.\n",
      "Calculated 49000 of 80000 predictions (61.25%) for train data. 0:40:40.944136 elapsed.\n",
      "Calculated 50000 of 80000 predictions (62.5%) for train data. 0:41:30.803741 elapsed.\n",
      "Calculated 51000 of 80000 predictions (63.75%) for train data. 0:42:20.689987 elapsed.\n",
      "Calculated 52000 of 80000 predictions (65.0%) for train data. 0:43:10.467362 elapsed.\n",
      "Calculated 53000 of 80000 predictions (66.25%) for train data. 0:44:00.288732 elapsed.\n",
      "Calculated 54000 of 80000 predictions (67.5%) for train data. 0:44:50.181972 elapsed.\n",
      "Calculated 55000 of 80000 predictions (68.75%) for train data. 0:45:40.146406 elapsed.\n",
      "Calculated 56000 of 80000 predictions (70.0%) for train data. 0:46:30.063206 elapsed.\n",
      "Calculated 57000 of 80000 predictions (71.25%) for train data. 0:47:19.802675 elapsed.\n",
      "Calculated 58000 of 80000 predictions (72.5%) for train data. 0:48:09.766085 elapsed.\n",
      "Calculated 59000 of 80000 predictions (73.75%) for train data. 0:49:00.171110 elapsed.\n",
      "Calculated 60000 of 80000 predictions (75.0%) for train data. 0:49:50.058864 elapsed.\n",
      "Calculated 61000 of 80000 predictions (76.25%) for train data. 0:50:39.927234 elapsed.\n",
      "Calculated 62000 of 80000 predictions (77.5%) for train data. 0:51:29.796786 elapsed.\n",
      "Calculated 63000 of 80000 predictions (78.75%) for train data. 0:52:19.745924 elapsed.\n",
      "Calculated 64000 of 80000 predictions (80.0%) for train data. 0:53:09.742460 elapsed.\n",
      "Calculated 65000 of 80000 predictions (81.25%) for train data. 0:53:59.638148 elapsed.\n",
      "Calculated 66000 of 80000 predictions (82.5%) for train data. 0:54:49.514946 elapsed.\n",
      "Calculated 67000 of 80000 predictions (83.75%) for train data. 0:55:39.491256 elapsed.\n",
      "Calculated 68000 of 80000 predictions (85.0%) for train data. 0:56:29.376670 elapsed.\n",
      "Calculated 69000 of 80000 predictions (86.25%) for train data. 0:57:19.254888 elapsed.\n",
      "Calculated 70000 of 80000 predictions (87.5%) for train data. 0:58:09.139899 elapsed.\n",
      "Calculated 71000 of 80000 predictions (88.75%) for train data. 0:58:58.866329 elapsed.\n",
      "Calculated 72000 of 80000 predictions (90.0%) for train data. 0:59:48.769912 elapsed.\n",
      "Calculated 73000 of 80000 predictions (91.25%) for train data. 1:00:37.650523 elapsed.\n",
      "Calculated 74000 of 80000 predictions (92.5%) for train data. 1:01:27.579077 elapsed.\n",
      "Calculated 75000 of 80000 predictions (93.75%) for train data. 1:02:17.384589 elapsed.\n",
      "Calculated 76000 of 80000 predictions (95.0%) for train data. 1:03:07.422268 elapsed.\n",
      "Calculated 77000 of 80000 predictions (96.25%) for train data. 1:03:53.988182 elapsed.\n",
      "Calculated 78000 of 80000 predictions (97.5%) for train data. 1:04:45.216878 elapsed.\n",
      "Calculated 79000 of 80000 predictions (98.75%) for train data. 1:05:33.547745 elapsed.\n",
      "Calculated 80000 of 80000 predictions (100.0%) for train data. 1:06:18.728894 elapsed.\n"
     ]
    }
   ],
   "source": [
    "# Obtain predictions and labels for training data.\n",
    "train_preds, train_true = get_preds(train_data_unbatched, model, model_name, 'train')"
   ]
  },
  {
   "cell_type": "markdown",
   "id": "9c705255-7873-4a7d-92a4-fc21f3e49a65",
   "metadata": {},
   "source": [
    "Here, I am recalculating the predictions from the model previously fit in Notebook 1.  This will allow me to adjust the snow threshold for that model as well and examine which model / threshold pairs give the most successful predictions."
   ]
  },
  {
   "cell_type": "code",
   "execution_count": 25,
   "id": "22d0e56d-1030-4ccb-a7d0-e5cc42912dbf",
   "metadata": {},
   "outputs": [],
   "source": [
    "load_model_name = 'test1'"
   ]
  },
  {
   "cell_type": "code",
   "execution_count": 26,
   "id": "b961113b-1e6d-4141-aad8-947933fbb372",
   "metadata": {},
   "outputs": [],
   "source": [
    "loaded_model = load_model(f'../saved_models/{load_model_name}')"
   ]
  },
  {
   "cell_type": "code",
   "execution_count": 27,
   "id": "7c8b682f-0911-41eb-93b4-acc8f0ce8b9f",
   "metadata": {},
   "outputs": [],
   "source": [
    "model_name = 'test1_float'"
   ]
  },
  {
   "cell_type": "code",
   "execution_count": 28,
   "id": "4fbb0da5-699f-42c8-ad52-71e7d444ad9f",
   "metadata": {},
   "outputs": [
    {
     "name": "stdout",
     "output_type": "stream",
     "text": [
      "Calculated 1000 of 20000 predictions (5.0%) for val data. 0:00:47.743125 elapsed.\n",
      "Calculated 2000 of 20000 predictions (10.0%) for val data. 0:01:36.331267 elapsed.\n",
      "Calculated 3000 of 20000 predictions (15.0%) for val data. 0:02:22.358140 elapsed.\n",
      "Calculated 4000 of 20000 predictions (20.0%) for val data. 0:03:10.749100 elapsed.\n",
      "Calculated 5000 of 20000 predictions (25.0%) for val data. 0:03:59.500582 elapsed.\n",
      "Calculated 6000 of 20000 predictions (30.0%) for val data. 0:04:50.893102 elapsed.\n",
      "Calculated 7000 of 20000 predictions (35.0%) for val data. 0:05:42.223875 elapsed.\n",
      "Calculated 8000 of 20000 predictions (40.0%) for val data. 0:06:33.390822 elapsed.\n",
      "Calculated 9000 of 20000 predictions (45.0%) for val data. 0:07:24.711838 elapsed.\n",
      "Calculated 10000 of 20000 predictions (50.0%) for val data. 0:08:16.097984 elapsed.\n",
      "Calculated 11000 of 20000 predictions (55.0%) for val data. 0:09:07.304653 elapsed.\n",
      "Calculated 12000 of 20000 predictions (60.0%) for val data. 0:09:58.371003 elapsed.\n",
      "Calculated 13000 of 20000 predictions (65.0%) for val data. 0:10:41.628096 elapsed.\n",
      "Calculated 14000 of 20000 predictions (70.0%) for val data. 0:11:23.940555 elapsed.\n",
      "Calculated 15000 of 20000 predictions (75.0%) for val data. 0:12:06.685308 elapsed.\n",
      "Calculated 16000 of 20000 predictions (80.0%) for val data. 0:12:49.940790 elapsed.\n",
      "Calculated 17000 of 20000 predictions (85.0%) for val data. 0:13:32.542799 elapsed.\n",
      "Calculated 18000 of 20000 predictions (90.0%) for val data. 0:14:14.540479 elapsed.\n",
      "Calculated 19000 of 20000 predictions (95.0%) for val data. 0:14:56.380656 elapsed.\n",
      "Calculated 20000 of 20000 predictions (100.0%) for val data. 0:15:38.313530 elapsed.\n"
     ]
    }
   ],
   "source": [
    "# Obtain predictions and labels for validation data.\n",
    "val_preds, val_true = get_preds(val_data_unbatched, loaded_model, model_name, 'val')"
   ]
  },
  {
   "cell_type": "code",
   "execution_count": 30,
   "id": "cb799a87-a896-4014-8306-263e10c26606",
   "metadata": {},
   "outputs": [
    {
     "name": "stdout",
     "output_type": "stream",
     "text": [
      "Calculated 1000 of 80000 predictions (1.25%) for train data. 0:00:49.875344 elapsed.\n",
      "Calculated 2000 of 80000 predictions (2.5%) for train data. 0:01:38.805669 elapsed.\n",
      "Calculated 3000 of 80000 predictions (3.75%) for train data. 0:02:26.578628 elapsed.\n",
      "Calculated 4000 of 80000 predictions (5.0%) for train data. 0:03:16.841484 elapsed.\n",
      "Calculated 5000 of 80000 predictions (6.25%) for train data. 0:04:08.780794 elapsed.\n",
      "Calculated 6000 of 80000 predictions (7.5%) for train data. 0:05:00.679279 elapsed.\n",
      "Calculated 7000 of 80000 predictions (8.75%) for train data. 0:05:52.557606 elapsed.\n",
      "Calculated 8000 of 80000 predictions (10.0%) for train data. 0:06:44.571676 elapsed.\n",
      "Calculated 9000 of 80000 predictions (11.25%) for train data. 0:07:36.504208 elapsed.\n",
      "Calculated 10000 of 80000 predictions (12.5%) for train data. 0:08:28.570555 elapsed.\n",
      "Calculated 11000 of 80000 predictions (13.75%) for train data. 0:09:20.404369 elapsed.\n",
      "Calculated 12000 of 80000 predictions (15.0%) for train data. 0:10:12.387764 elapsed.\n",
      "Calculated 13000 of 80000 predictions (16.25%) for train data. 0:11:03.169189 elapsed.\n",
      "Calculated 14000 of 80000 predictions (17.5%) for train data. 0:11:53.986668 elapsed.\n",
      "Calculated 15000 of 80000 predictions (18.75%) for train data. 0:12:45.811826 elapsed.\n",
      "Calculated 16000 of 80000 predictions (20.0%) for train data. 0:13:37.685334 elapsed.\n",
      "Calculated 17000 of 80000 predictions (21.25%) for train data. 0:14:29.384550 elapsed.\n",
      "Calculated 18000 of 80000 predictions (22.5%) for train data. 0:15:20.969636 elapsed.\n",
      "Calculated 19000 of 80000 predictions (23.75%) for train data. 0:16:12.275942 elapsed.\n",
      "Calculated 20000 of 80000 predictions (25.0%) for train data. 0:17:04.942707 elapsed.\n",
      "Calculated 21000 of 80000 predictions (26.25%) for train data. 0:17:56.808454 elapsed.\n",
      "Calculated 22000 of 80000 predictions (27.5%) for train data. 0:18:48.756825 elapsed.\n",
      "Calculated 23000 of 80000 predictions (28.75%) for train data. 0:19:38.775220 elapsed.\n",
      "Calculated 24000 of 80000 predictions (30.0%) for train data. 0:20:30.733821 elapsed.\n",
      "Calculated 25000 of 80000 predictions (31.25%) for train data. 0:21:22.671245 elapsed.\n",
      "Calculated 26000 of 80000 predictions (32.5%) for train data. 0:22:14.527124 elapsed.\n",
      "Calculated 27000 of 80000 predictions (33.75%) for train data. 0:23:06.550547 elapsed.\n",
      "Calculated 28000 of 80000 predictions (35.0%) for train data. 0:23:57.308721 elapsed.\n",
      "Calculated 29000 of 80000 predictions (36.25%) for train data. 0:24:48.215791 elapsed.\n",
      "Calculated 30000 of 80000 predictions (37.5%) for train data. 0:25:39.564899 elapsed.\n",
      "Calculated 31000 of 80000 predictions (38.75%) for train data. 0:26:29.727494 elapsed.\n",
      "Calculated 32000 of 80000 predictions (40.0%) for train data. 0:27:22.671256 elapsed.\n",
      "Calculated 33000 of 80000 predictions (41.25%) for train data. 0:28:15.858557 elapsed.\n",
      "Calculated 34000 of 80000 predictions (42.5%) for train data. 0:29:08.826501 elapsed.\n",
      "Calculated 35000 of 80000 predictions (43.75%) for train data. 0:30:00.981051 elapsed.\n",
      "Calculated 36000 of 80000 predictions (45.0%) for train data. 0:30:54.207348 elapsed.\n",
      "Calculated 37000 of 80000 predictions (46.25%) for train data. 0:31:47.558724 elapsed.\n",
      "Calculated 38000 of 80000 predictions (47.5%) for train data. 0:32:40.881743 elapsed.\n",
      "Calculated 39000 of 80000 predictions (48.75%) for train data. 0:33:32.756857 elapsed.\n",
      "Calculated 40000 of 80000 predictions (50.0%) for train data. 0:34:26.016948 elapsed.\n",
      "Calculated 41000 of 80000 predictions (51.25%) for train data. 0:35:19.378424 elapsed.\n",
      "Calculated 42000 of 80000 predictions (52.5%) for train data. 0:36:12.855443 elapsed.\n",
      "Calculated 43000 of 80000 predictions (53.75%) for train data. 0:37:05.366572 elapsed.\n",
      "Calculated 44000 of 80000 predictions (55.0%) for train data. 0:37:53.923807 elapsed.\n",
      "Calculated 45000 of 80000 predictions (56.25%) for train data. 0:38:44.471196 elapsed.\n",
      "Calculated 46000 of 80000 predictions (57.5%) for train data. 0:39:36.026123 elapsed.\n",
      "Calculated 47000 of 80000 predictions (58.75%) for train data. 0:40:26.988107 elapsed.\n",
      "Calculated 48000 of 80000 predictions (60.0%) for train data. 0:41:17.920638 elapsed.\n",
      "Calculated 49000 of 80000 predictions (61.25%) for train data. 0:42:08.509386 elapsed.\n",
      "Calculated 50000 of 80000 predictions (62.5%) for train data. 0:42:57.444052 elapsed.\n",
      "Calculated 51000 of 80000 predictions (63.75%) for train data. 0:43:45.473731 elapsed.\n",
      "Calculated 52000 of 80000 predictions (65.0%) for train data. 0:44:36.962321 elapsed.\n",
      "Calculated 53000 of 80000 predictions (66.25%) for train data. 0:45:28.740604 elapsed.\n",
      "Calculated 54000 of 80000 predictions (67.5%) for train data. 0:46:20.613232 elapsed.\n",
      "Calculated 55000 of 80000 predictions (68.75%) for train data. 0:47:12.451620 elapsed.\n",
      "Calculated 56000 of 80000 predictions (70.0%) for train data. 0:48:04.475227 elapsed.\n",
      "Calculated 57000 of 80000 predictions (71.25%) for train data. 0:48:56.361027 elapsed.\n",
      "Calculated 58000 of 80000 predictions (72.5%) for train data. 0:49:48.354254 elapsed.\n",
      "Calculated 59000 of 80000 predictions (73.75%) for train data. 0:50:40.575317 elapsed.\n",
      "Calculated 60000 of 80000 predictions (75.0%) for train data. 0:51:32.448699 elapsed.\n",
      "Calculated 61000 of 80000 predictions (76.25%) for train data. 0:52:24.566995 elapsed.\n",
      "Calculated 62000 of 80000 predictions (77.5%) for train data. 0:53:16.592344 elapsed.\n",
      "Calculated 63000 of 80000 predictions (78.75%) for train data. 0:54:08.677512 elapsed.\n",
      "Calculated 64000 of 80000 predictions (80.0%) for train data. 0:54:59.993073 elapsed.\n",
      "Calculated 65000 of 80000 predictions (81.25%) for train data. 0:55:51.512419 elapsed.\n",
      "Calculated 66000 of 80000 predictions (82.5%) for train data. 0:56:42.802672 elapsed.\n",
      "Calculated 67000 of 80000 predictions (83.75%) for train data. 0:57:34.306030 elapsed.\n",
      "Calculated 68000 of 80000 predictions (85.0%) for train data. 0:58:25.696104 elapsed.\n",
      "Calculated 69000 of 80000 predictions (86.25%) for train data. 0:59:17.247173 elapsed.\n",
      "Calculated 70000 of 80000 predictions (87.5%) for train data. 1:00:08.690015 elapsed.\n",
      "Calculated 71000 of 80000 predictions (88.75%) for train data. 1:01:00.223673 elapsed.\n",
      "Calculated 72000 of 80000 predictions (90.0%) for train data. 1:01:51.588522 elapsed.\n",
      "Calculated 73000 of 80000 predictions (91.25%) for train data. 1:02:43.126230 elapsed.\n",
      "Calculated 74000 of 80000 predictions (92.5%) for train data. 1:03:34.553916 elapsed.\n",
      "Calculated 75000 of 80000 predictions (93.75%) for train data. 1:04:26.037755 elapsed.\n",
      "Calculated 76000 of 80000 predictions (95.0%) for train data. 1:05:17.724390 elapsed.\n",
      "Calculated 77000 of 80000 predictions (96.25%) for train data. 1:06:09.054348 elapsed.\n",
      "Calculated 78000 of 80000 predictions (97.5%) for train data. 1:07:00.633861 elapsed.\n",
      "Calculated 79000 of 80000 predictions (98.75%) for train data. 1:07:52.025124 elapsed.\n",
      "Calculated 80000 of 80000 predictions (100.0%) for train data. 1:08:43.638821 elapsed.\n"
     ]
    }
   ],
   "source": [
    "# Obtain predictions and labels for training data.\n",
    "train_preds, train_true = get_preds(train_data_unbatched, loaded_model, model_name, 'train')"
   ]
  },
  {
   "cell_type": "code",
   "execution_count": null,
   "id": "90a318f9-969f-48fe-b3a9-27bf0ec0f911",
   "metadata": {},
   "outputs": [],
   "source": []
  }
 ],
 "metadata": {
  "kernelspec": {
   "display_name": "Python 3",
   "language": "python",
   "name": "python3"
  },
  "language_info": {
   "codemirror_mode": {
    "name": "ipython",
    "version": 3
   },
   "file_extension": ".py",
   "mimetype": "text/x-python",
   "name": "python",
   "nbconvert_exporter": "python",
   "pygments_lexer": "ipython3",
   "version": "3.8.8"
  }
 },
 "nbformat": 4,
 "nbformat_minor": 5
}
