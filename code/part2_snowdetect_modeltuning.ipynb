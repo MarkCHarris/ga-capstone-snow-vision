{
 "cells": [
  {
   "cell_type": "code",
   "execution_count": 2,
   "id": "b1fcf121-e4ec-4b2b-8aec-0c1277569218",
   "metadata": {},
   "outputs": [],
   "source": [
    "from tensorflow.keras.utils import img_to_array"
   ]
  },
  {
   "cell_type": "code",
   "execution_count": null,
   "id": "ae5af31c-3bbd-4b0a-8636-2b7f33503f21",
   "metadata": {},
   "outputs": [],
   "source": [
    "model = load_model(f'../saved_models/test1')"
   ]
  }
 ],
 "metadata": {
  "kernelspec": {
   "display_name": "Python 3 (ipykernel)",
   "language": "python",
   "name": "python3"
  },
  "language_info": {
   "codemirror_mode": {
    "name": "ipython",
    "version": 3
   },
   "file_extension": ".py",
   "mimetype": "text/x-python",
   "name": "python",
   "nbconvert_exporter": "python",
   "pygments_lexer": "ipython3",
   "version": "3.8.12"
  }
 },
 "nbformat": 4,
 "nbformat_minor": 5
}
